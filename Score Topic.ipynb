{
 "cells": [
  {
   "cell_type": "code",
   "execution_count": 1,
   "metadata": {},
   "outputs": [],
   "source": [
    "#import the necessary packages\n",
    "import numpy as np\n",
    "import pandas as pd"
   ]
  },
  {
   "cell_type": "markdown",
   "metadata": {},
   "source": [
    "### Read in EAE document\n",
    "Read in EAE Data"
   ]
  },
  {
   "cell_type": "code",
   "execution_count": 2,
   "metadata": {},
   "outputs": [
    {
     "data": {
      "text/html": [
       "<div>\n",
       "<style scoped>\n",
       "    .dataframe tbody tr th:only-of-type {\n",
       "        vertical-align: middle;\n",
       "    }\n",
       "\n",
       "    .dataframe tbody tr th {\n",
       "        vertical-align: top;\n",
       "    }\n",
       "\n",
       "    .dataframe thead th {\n",
       "        text-align: right;\n",
       "    }\n",
       "</style>\n",
       "<table border=\"1\" class=\"dataframe\">\n",
       "  <thead>\n",
       "    <tr style=\"text-align: right;\">\n",
       "      <th></th>\n",
       "      <th>UID</th>\n",
       "      <th>Choice</th>\n",
       "      <th>Course Code</th>\n",
       "      <th>Final Writeup</th>\n",
       "      <th>predict_recommend</th>\n",
       "    </tr>\n",
       "  </thead>\n",
       "  <tbody>\n",
       "    <tr>\n",
       "      <th>0</th>\n",
       "      <td>C35A1W1</td>\n",
       "      <td>1</td>\n",
       "      <td>C35</td>\n",
       "      <td>I believe in this technological advanced world...</td>\n",
       "      <td>0</td>\n",
       "    </tr>\n",
       "    <tr>\n",
       "      <th>1</th>\n",
       "      <td>C35A2W1</td>\n",
       "      <td>1</td>\n",
       "      <td>C35</td>\n",
       "      <td>The Business and Financial Technology course h...</td>\n",
       "      <td>0</td>\n",
       "    </tr>\n",
       "    <tr>\n",
       "      <th>2</th>\n",
       "      <td>C35A3W1</td>\n",
       "      <td>1</td>\n",
       "      <td>C35</td>\n",
       "      <td>I fancy numbers and I always want to know how ...</td>\n",
       "      <td>0</td>\n",
       "    </tr>\n",
       "    <tr>\n",
       "      <th>3</th>\n",
       "      <td>C35A4W1</td>\n",
       "      <td>1</td>\n",
       "      <td>C35</td>\n",
       "      <td>I foresee that there is a growth and demand in...</td>\n",
       "      <td>1</td>\n",
       "    </tr>\n",
       "    <tr>\n",
       "      <th>4</th>\n",
       "      <td>C35A5W1</td>\n",
       "      <td>1</td>\n",
       "      <td>C35</td>\n",
       "      <td>We are into high technology era where people u...</td>\n",
       "      <td>0</td>\n",
       "    </tr>\n",
       "  </tbody>\n",
       "</table>\n",
       "</div>"
      ],
      "text/plain": [
       "       UID  Choice Course Code  \\\n",
       "0  C35A1W1       1         C35   \n",
       "1  C35A2W1       1         C35   \n",
       "2  C35A3W1       1         C35   \n",
       "3  C35A4W1       1         C35   \n",
       "4  C35A5W1       1         C35   \n",
       "\n",
       "                                       Final Writeup  predict_recommend  \n",
       "0  I believe in this technological advanced world...                  0  \n",
       "1  The Business and Financial Technology course h...                  0  \n",
       "2  I fancy numbers and I always want to know how ...                  0  \n",
       "3  I foresee that there is a growth and demand in...                  1  \n",
       "4  We are into high technology era where people u...                  0  "
      ]
     },
     "execution_count": 2,
     "metadata": {},
     "output_type": "execute_result"
    }
   ],
   "source": [
    "# Read in the application data scrapped from EAE pdf\n",
    "df_merge = pd.read_csv('final_merged_predict.csv', index_col=0)\n",
    "df_merge.head()"
   ]
  },
  {
   "cell_type": "markdown",
   "metadata": {},
   "source": [
    "### Load LDA Model and Score data\n",
    "Load finalize LDA model and score the EAE data."
   ]
  },
  {
   "cell_type": "code",
   "execution_count": 3,
   "metadata": {},
   "outputs": [],
   "source": [
    "import gensim \n",
    "from sklearn.feature_extraction.text import CountVectorizer\n",
    "\n",
    "ldamodel = gensim.models.LdaModel.load('model20try.gensim', mmap='r')\n",
    "\n",
    "# Use CountVectorizor to find three letter tokens, remove stop_words, \n",
    "# remove tokens that don't appear in at least 20 documents,\n",
    "# remove tokens that appear in more than 20% of the documents\n",
    "vect = CountVectorizer(min_df=20, max_df=0.2, stop_words='english', \n",
    "                       token_pattern='(?u)\\\\b\\\\w\\\\w\\\\w+\\\\b')\n",
    "# Fit and transform\n",
    "X = vect.fit_transform(df_merge['Final Writeup'])"
   ]
  },
  {
   "cell_type": "code",
   "execution_count": 4,
   "metadata": {},
   "outputs": [],
   "source": [
    "def topic_prediction(my_document):\n",
    "    string_input = [my_document]\n",
    "    X = vect.transform(string_input)\n",
    "\n",
    "    # Convert sparse matrix to gensim corpus.\n",
    "    corpus = gensim.matutils.Sparse2Corpus(X, documents_columns=False)\n",
    "    output = list(ldamodel[corpus])[0]\n",
    "    topics = sorted(output,key=lambda x:x[1],reverse=True)\n",
    "    return topics[0]"
   ]
  },
  {
   "cell_type": "code",
   "execution_count": 5,
   "metadata": {},
   "outputs": [
    {
     "name": "stdout",
     "output_type": "stream",
     "text": [
      "[14, 0.48917955]\n"
     ]
    }
   ],
   "source": [
    "predictedtopic = []\n",
    "\n",
    "for ind in df_merge.index:\n",
    "    predictedtopic.append(list(topic_prediction(df_merge['Final Writeup'][ind])))\n",
    "\n",
    "print(predictedtopic[2])"
   ]
  },
  {
   "cell_type": "code",
   "execution_count": 6,
   "metadata": {},
   "outputs": [
    {
     "data": {
      "text/html": [
       "<div>\n",
       "<style scoped>\n",
       "    .dataframe tbody tr th:only-of-type {\n",
       "        vertical-align: middle;\n",
       "    }\n",
       "\n",
       "    .dataframe tbody tr th {\n",
       "        vertical-align: top;\n",
       "    }\n",
       "\n",
       "    .dataframe thead th {\n",
       "        text-align: right;\n",
       "    }\n",
       "</style>\n",
       "<table border=\"1\" class=\"dataframe\">\n",
       "  <thead>\n",
       "    <tr style=\"text-align: right;\">\n",
       "      <th></th>\n",
       "      <th>predictedTopic</th>\n",
       "      <th>predProb</th>\n",
       "    </tr>\n",
       "  </thead>\n",
       "  <tbody>\n",
       "    <tr>\n",
       "      <th>0</th>\n",
       "      <td>9</td>\n",
       "      <td>0.397608</td>\n",
       "    </tr>\n",
       "    <tr>\n",
       "      <th>1</th>\n",
       "      <td>4</td>\n",
       "      <td>0.314243</td>\n",
       "    </tr>\n",
       "    <tr>\n",
       "      <th>2</th>\n",
       "      <td>14</td>\n",
       "      <td>0.489180</td>\n",
       "    </tr>\n",
       "    <tr>\n",
       "      <th>3</th>\n",
       "      <td>17</td>\n",
       "      <td>0.986028</td>\n",
       "    </tr>\n",
       "    <tr>\n",
       "      <th>4</th>\n",
       "      <td>10</td>\n",
       "      <td>0.984165</td>\n",
       "    </tr>\n",
       "  </tbody>\n",
       "</table>\n",
       "</div>"
      ],
      "text/plain": [
       "   predictedTopic  predProb\n",
       "0               9  0.397608\n",
       "1               4  0.314243\n",
       "2              14  0.489180\n",
       "3              17  0.986028\n",
       "4              10  0.984165"
      ]
     },
     "execution_count": 6,
     "metadata": {},
     "output_type": "execute_result"
    }
   ],
   "source": [
    "predictionDF = pd.DataFrame(predictedtopic, columns=['predictedTopic', 'predProb'])\n",
    "predictionDF.head()"
   ]
  },
  {
   "cell_type": "code",
   "execution_count": 7,
   "metadata": {},
   "outputs": [
    {
     "data": {
      "text/html": [
       "<div>\n",
       "<style scoped>\n",
       "    .dataframe tbody tr th:only-of-type {\n",
       "        vertical-align: middle;\n",
       "    }\n",
       "\n",
       "    .dataframe tbody tr th {\n",
       "        vertical-align: top;\n",
       "    }\n",
       "\n",
       "    .dataframe thead th {\n",
       "        text-align: right;\n",
       "    }\n",
       "</style>\n",
       "<table border=\"1\" class=\"dataframe\">\n",
       "  <thead>\n",
       "    <tr style=\"text-align: right;\">\n",
       "      <th></th>\n",
       "      <th>UID</th>\n",
       "      <th>Choice</th>\n",
       "      <th>Course Code</th>\n",
       "      <th>Final Writeup</th>\n",
       "      <th>predict_recommend</th>\n",
       "      <th>predictedTopic</th>\n",
       "      <th>predProb</th>\n",
       "    </tr>\n",
       "  </thead>\n",
       "  <tbody>\n",
       "    <tr>\n",
       "      <th>0</th>\n",
       "      <td>C35A1W1</td>\n",
       "      <td>1</td>\n",
       "      <td>C35</td>\n",
       "      <td>I believe in this technological advanced world...</td>\n",
       "      <td>0</td>\n",
       "      <td>9</td>\n",
       "      <td>0.397608</td>\n",
       "    </tr>\n",
       "    <tr>\n",
       "      <th>1</th>\n",
       "      <td>C35A2W1</td>\n",
       "      <td>1</td>\n",
       "      <td>C35</td>\n",
       "      <td>The Business and Financial Technology course h...</td>\n",
       "      <td>0</td>\n",
       "      <td>4</td>\n",
       "      <td>0.314243</td>\n",
       "    </tr>\n",
       "    <tr>\n",
       "      <th>2</th>\n",
       "      <td>C35A3W1</td>\n",
       "      <td>1</td>\n",
       "      <td>C35</td>\n",
       "      <td>I fancy numbers and I always want to know how ...</td>\n",
       "      <td>0</td>\n",
       "      <td>14</td>\n",
       "      <td>0.489180</td>\n",
       "    </tr>\n",
       "    <tr>\n",
       "      <th>3</th>\n",
       "      <td>C35A4W1</td>\n",
       "      <td>1</td>\n",
       "      <td>C35</td>\n",
       "      <td>I foresee that there is a growth and demand in...</td>\n",
       "      <td>1</td>\n",
       "      <td>17</td>\n",
       "      <td>0.986028</td>\n",
       "    </tr>\n",
       "    <tr>\n",
       "      <th>4</th>\n",
       "      <td>C35A5W1</td>\n",
       "      <td>1</td>\n",
       "      <td>C35</td>\n",
       "      <td>We are into high technology era where people u...</td>\n",
       "      <td>0</td>\n",
       "      <td>10</td>\n",
       "      <td>0.984165</td>\n",
       "    </tr>\n",
       "  </tbody>\n",
       "</table>\n",
       "</div>"
      ],
      "text/plain": [
       "       UID  Choice Course Code  \\\n",
       "0  C35A1W1       1         C35   \n",
       "1  C35A2W1       1         C35   \n",
       "2  C35A3W1       1         C35   \n",
       "3  C35A4W1       1         C35   \n",
       "4  C35A5W1       1         C35   \n",
       "\n",
       "                                       Final Writeup  predict_recommend  \\\n",
       "0  I believe in this technological advanced world...                  0   \n",
       "1  The Business and Financial Technology course h...                  0   \n",
       "2  I fancy numbers and I always want to know how ...                  0   \n",
       "3  I foresee that there is a growth and demand in...                  1   \n",
       "4  We are into high technology era where people u...                  0   \n",
       "\n",
       "   predictedTopic  predProb  \n",
       "0               9  0.397608  \n",
       "1               4  0.314243  \n",
       "2              14  0.489180  \n",
       "3              17  0.986028  \n",
       "4              10  0.984165  "
      ]
     },
     "execution_count": 7,
     "metadata": {},
     "output_type": "execute_result"
    }
   ],
   "source": [
    "final = pd.merge(df_merge, predictionDF, left_index=True, right_index=True)\n",
    "final.head()"
   ]
  },
  {
   "cell_type": "code",
   "execution_count": 8,
   "metadata": {},
   "outputs": [],
   "source": [
    "final.to_csv('finalfinal.csv')"
   ]
  },
  {
   "cell_type": "code",
   "execution_count": null,
   "metadata": {},
   "outputs": [],
   "source": []
  }
 ],
 "metadata": {
  "language_info": {
   "codemirror_mode": {
    "name": "ipython",
    "version": 3
   },
   "file_extension": ".py",
   "mimetype": "text/x-python",
   "name": "python",
   "nbconvert_exporter": "python",
   "pygments_lexer": "ipython3",
   "version": "3.7.6"
  }
 },
 "nbformat": 4,
 "nbformat_minor": 4
}
